{
 "cells": [
  {
   "cell_type": "markdown",
   "id": "6ef20644",
   "metadata": {},
   "source": [
    "# Homework 1: Introduction to Python\n",
    "\n",
    "* **Statistics 159/259, Spring 2022**\n",
    "* **Due MM/DD/2022, 11:59PM PT**\n",
    "* Prof. F. Pérez and GSI F. Sapienza, Department of Statistics, UC Berkeley.\n",
    "* This assignment is worth a maximum of **40 points**.\n",
    "* Assignment type: **individual**.\n",
    "\n",
    "**Deliverable:** for this assignment, your github repository should contain:\n",
    "\n",
    "- This notebook, completed so it includes code for plots and simulations, along with your written responses and discussion. Please remember to use markdown headings for each section/subsection so the entire document is readable.\n",
    "\n",
    "**Collaboration Policy**\n",
    "\n",
    "Data science is a collaborative activity. While you may talk with others about\n",
    "the project, we ask that you **write your solutions individually**. If you do\n",
    "discuss the assignments with others please **include their names** below:"
   ]
  },
  {
   "cell_type": "markdown",
   "id": "2b557ab1",
   "metadata": {},
   "source": [
    "**Collaborators**: *list any collaborators here*"
   ]
  },
  {
   "cell_type": "markdown",
   "id": "368ffecf",
   "metadata": {},
   "source": [
    "# Q1: Dictionaries for counting words [10 points]\n",
    "\n",
    "A common task in text processing is to produce a count of word\n",
    "frequencies. While NumPy has a builtin histogram function for doing\n",
    "numerical histograms, it won't work out of the box for couting discrete\n",
    "items, since it is a binning histogram for a range of real values.\n",
    "\n",
    "But the Python language provides very powerful string manipulation\n",
    "capabilities, as well as a very flexible and efficiently implemented\n",
    "builtin data type, the *dictionary*, that makes this task a very simple\n",
    "one.\n",
    "\n",
    "In this problem, you will need to count the frequencies of all the words\n",
    "contained in a compressed text file supplied as input. Load and read the\n",
    "data file `HISTORY.gz` (without uncompressing it on the filesystem\n",
    "separately), and then use a dictionary count the frequency of each word\n",
    "in the file. Then, display the 20 most and 20 least frequent words in\n",
    "the text.\n",
    "\n",
    "## Hints\n",
    "\n",
    "-   To read the compressed file `HISTORY.gz` without uncompressing it\n",
    "    first, see the `gzip`{.interpreted-text role=\"mod\"} module.\n",
    "-   Consider 'words' simply the result of splitting the input text\n",
    "    into a list, using any form of whitespace as a separator. This is\n",
    "    obviously a very naive definition of 'word', but it shall suffice\n",
    "    for the purposes of this exercise.\n",
    "-   Python strings have a `.split()` method that allows for very\n",
    "    flexible splitting. You can easily get more details on it here\n",
    "    thanks to IPython's \"?\" functionality:"
   ]
  },
  {
   "cell_type": "code",
   "execution_count": 1,
   "id": "5cfe9e21",
   "metadata": {},
   "outputs": [],
   "source": [
    "a = 'somestring'\n",
    "a.split?"
   ]
  },
  {
   "cell_type": "markdown",
   "id": "5fb236d3",
   "metadata": {},
   "source": [
    "The complete set of methods of Python strings can be viewed by hitting\n",
    "the TAB key in IPython after typing `a.`, and each of them can be\n",
    "similarly queried with the `?` operator as above. For more details on\n",
    "Python strings and their companion sequence types, see\n",
    "[here](https://docs.python.org/3/library/stdtypes.html#sequence-types-list-tuple-range)."
   ]
  },
  {
   "cell_type": "code",
   "execution_count": 31,
   "id": "0a6ab440",
   "metadata": {
    "tags": []
   },
   "outputs": [],
   "source": [
    "def word_freq(text):\n",
    "    \"\"\"Return a dictionary of word frequencies for the given text.\"\"\"\n",
    "\n",
    "    ...\n",
    "    \n",
    "def print_vk(lst):\n",
    "    \"\"\"Print a list of value/key pairs nicely formatted in key/value order.\"\"\"\n",
    "\n",
    "    ...\n",
    "    \n",
    "def freq_summ(freqs,n=10):\n",
    "    \"\"\"Print a simple summary of a word frequencies dictionary.\n",
    "\n",
    "    Inputs:\n",
    "      - freqs: a dictionary of word frequencies.\n",
    "\n",
    "    Optional inputs:\n",
    "      - n: the number of \"\"\"\n",
    "\n",
    "    ..."
   ]
  },
  {
   "cell_type": "code",
   "execution_count": 33,
   "id": "8acd3d3f",
   "metadata": {
    "tags": []
   },
   "outputs": [],
   "source": [
    "import gzip\n",
    "..."
   ]
  },
  {
   "cell_type": "markdown",
   "id": "e6bce84e",
   "metadata": {},
   "source": [
    "# Q2: Wallis' formula [5 points]\n",
    "\n",
    "Wallis' formula is a slowly converging infinite product that\n",
    "approximates $\\pi$ as\n",
    "\n",
    "$$\n",
    "\\pi = \\lim_{n \\rightarrow \\infty} 2 \\prod_{i=1}^{n}\\frac{4i^2}{4i^2-1}.\n",
    "$$\n",
    "\n",
    "While this isn't a particularly good way of computing $\\pi$ from a\n",
    "numerical standpoint, it provides for an excellent illustration of how\n",
    "Python's integers are more flexible and powerful than those typically\n",
    "found by default in compiled languages like C and Fortran. The problem\n",
    "is that for `wallis-pi` to be even remotely\n",
    "accurate, one must evaluate it for fairly large values of $n$, where\n",
    "both the numerator and the denominator will easily overflow the limits\n",
    "of 64-bit integers. It is only after taking the ratio of these two huge\n",
    "numbers that the value is small (close to $\\pi$).\n",
    "\n",
    "Fortunately for us, Python integers automatically allocate as many\n",
    "digits as necessary (within the limits of physically available memory)\n",
    "to hold their result. So while impementing `wallis-pi` in C or Fortran (without auxilary libraries like\n",
    "[GMP](http://gmplib.org)) would be fairly tricky, in Python it's very\n",
    "straightforward.\n",
    "\n",
    "For this exercise, write a program that implements the above formula.\n",
    "Note that Python's `math` module already\n",
    "contains $\\pi$ in double precision, so you can use this value to\n",
    "compare your results:"
   ]
  },
  {
   "cell_type": "code",
   "execution_count": 4,
   "id": "3d7cb276",
   "metadata": {},
   "outputs": [],
   "source": [
    "import math\n",
    "math.pi"
   ]
  },
  {
   "cell_type": "markdown",
   "id": "a74a9702",
   "metadata": {},
   "source": [
    "## Solution"
   ]
  },
  {
   "cell_type": "code",
   "execution_count": 39,
   "id": "d849ce49",
   "metadata": {
    "tags": []
   },
   "outputs": [],
   "source": [
    "def pi(n):\n",
    "    r\"\"\"Compute pi using n terms of Wallis' product.\n",
    "\n",
    "    Wallis' formula approximates pi as\n",
    "\n",
    "    pi(n) = 2 \\prod_{i=1}^{n}\\frac{4i^2}{4i^2-1}.\"\"\"\n",
    "    ..."
   ]
  },
  {
   "cell_type": "code",
   "execution_count": 40,
   "id": "3031b179",
   "metadata": {},
   "outputs": [],
   "source": [
    "# Simple convergence demo.\n",
    "\n",
    "# A few modules we need\n",
    "from matplotlib import pyplot as plt\n",
    "import numpy as np\n",
    "\n",
    "# Create a list of points 'nrange' where we'll compute Wallis' formula\n",
    "nrange = np.linspace(10, 2000, 20).astype(int)\n",
    "# Make an array of such values\n",
    "wpi = np.array(list(map(pi, nrange)))\n",
    "# Compute the difference against the value of pi in numpy (standard\n",
    "# 16-digit value)\n",
    "diff = abs(wpi-np.pi)\n",
    "\n",
    "# Make a new figure and build a semilog plot of the difference so we can\n",
    "# see the quality of the convergence\n",
    "plt.figure()\n",
    "# Line plot with red circles at the data points\n",
    "plt.semilogy(nrange,diff,'-o',mfc='red')\n",
    "\n",
    "# A bit of labeling and a grid\n",
    "plt.title(r\"Convergence of Wallis' product formula for $\\pi$\")\n",
    "plt.xlabel('Number of terms')\n",
    "plt.ylabel(r'Absolute Error')\n",
    "plt.grid()\n",
    "\n",
    "# Display the actual plot\n",
    "plt.show()"
   ]
  },
  {
   "cell_type": "markdown",
   "id": "2512fd7f",
   "metadata": {},
   "source": [
    "Note that in the computation of $\\pi$, you must store the numerator and\n",
    "the denominator *separately* as integers, to take advantage of Python's\n",
    "arbitrary length integers, and only make the floating point division at\n",
    "the very end."
   ]
  },
  {
   "cell_type": "markdown",
   "id": "9386ad05",
   "metadata": {},
   "source": [
    "# Q3: Monte Carlo integration [5 points]\n",
    "\n",
    "Compute $\\pi$ via Monte Carlo integration. To do this, think of a\n",
    "function whose integral is related to $\\pi$, and then compute this\n",
    "integral via MonteCarlo integration (even if it's a simple integral you\n",
    "could do analytically, since the point is to practice MC methods)."
   ]
  },
  {
   "cell_type": "markdown",
   "id": "e485d3c2",
   "metadata": {},
   "source": [
    "_Type your answer here, replacing this text._"
   ]
  },
  {
   "cell_type": "code",
   "execution_count": 7,
   "id": "b64c275e",
   "metadata": {
    "tags": []
   },
   "outputs": [],
   "source": [
    "import math\n",
    "import random\n",
    "\n",
    "def mcpi(n = 100000):\n",
    "    \"\"\"Approximate pi via monte carlo integration\"\"\"\n",
    "    ..."
   ]
  },
  {
   "cell_type": "code",
   "execution_count": 8,
   "id": "a4c5e4dd",
   "metadata": {},
   "outputs": [],
   "source": [
    "# Monte Carlo Pi:\n",
    "print(f'pi is:       {math.pi}')\n",
    "print(f'pi - python: {mcpi()}')"
   ]
  },
  {
   "cell_type": "markdown",
   "id": "80422cc1",
   "metadata": {},
   "source": [
    "# Q4: Prime numbers and the sieve of Erathostenes [20 points total]\n",
    "\n",
    "## Q4a: implementation [15 points]\n",
    "\n",
    "The sieve of Erathostenes is a simple and famous algorithm for factoring prime\n",
    "numbers.  Try to implement it in Python (look it up first), and think of\n",
    "different data structures you may use to do this.\n",
    "\n",
    "You should provide three different implementations, from the most naïve reading\n",
    "you can make of the basic algorithm, to the most performant one you can come up\n",
    "with in pure python."
   ]
  },
  {
   "cell_type": "markdown",
   "id": "fc9d7f2b",
   "metadata": {},
   "source": [
    "_Type your answer here, replacing this text._"
   ]
  },
  {
   "cell_type": "code",
   "execution_count": 43,
   "id": "4f972217",
   "metadata": {
    "tags": []
   },
   "outputs": [],
   "source": [
    "\"\"\"Simple example implementations of the Sieve of Erathostenes.\"\"\"\n",
    "\n",
    "import sys\n",
    "import math\n",
    "\n",
    "import numpy as np\n",
    "\n",
    "def sieve_1(nmax):\n",
    "    \"\"\"Return a list of prime numbers up to nmax.\n",
    "\n",
    "    Naive, O(N^2) implementation using the Sieve of Erathostenes.\"\"\"\n",
    "\n",
    "    ...\n",
    "\n",
    "# Let's try a variant on the basic algorithm and see if we can make it\n",
    "# more performant\n",
    "def sieve_2(nmax):\n",
    "    \"\"\"Return a list of prime numbers up to nmax.\n",
    "\n",
    "    A more readable implementation, still O(N^2).\n",
    "    \"\"\"\n",
    "\n",
    "    ...\n",
    "\n",
    "# Now let's try to have an algorithm with a fundamentally better performance\n",
    "def sieve_3(nmax):\n",
    "    \"\"\"Return a list of prime numbers up to nmax, using Erathostenes' sieve.\n",
    "\n",
    "    This is a more efficient implementation than sieve_quad: we combine a\n",
    "    set with an auxiliary list (kept sorted).\"\"\"\n",
    "\n",
    "    ..."
   ]
  },
  {
   "cell_type": "markdown",
   "id": "7dd96518",
   "metadata": {},
   "source": [
    "Let's run some sanity tests on our implementations:"
   ]
  },
  {
   "cell_type": "code",
   "execution_count": 44,
   "id": "9e8a8c59",
   "metadata": {},
   "outputs": [],
   "source": [
    "primes100 = [2, 3, 5, 7, 11, 13, 17, 19, 23, 29, 31, 37, 41, 43, 47, \n",
    "             53, 59, 61, 67, 71, 73, 79, 83, 89, 97]\n",
    "\n",
    "for sieve_func in [sieve_1, sieve_2, sieve_3]:\n",
    "    assert sieve_func(2) == [2]\n",
    "    assert sieve_func(100) == primes100"
   ]
  },
  {
   "cell_type": "markdown",
   "id": "d83d17a3",
   "metadata": {},
   "source": [
    "## Q4b: timing visualization [5 points]\n",
    "\n",
    "And let's visualize their performance. You should complete the code below\n",
    "to provide a figure timing the performance of your three implementations."
   ]
  },
  {
   "cell_type": "markdown",
   "id": "49a4ca10",
   "metadata": {},
   "source": [
    "_Type your answer here, replacing this text._"
   ]
  },
  {
   "cell_type": "code",
   "execution_count": 47,
   "id": "3da24e03",
   "metadata": {
    "tags": []
   },
   "outputs": [],
   "source": [
    "import time\n",
    "from matplotlib import pyplot as plt\n",
    "\n",
    "def time_rng(fun, nrange, verbose=False):\n",
    "    \"\"\"Time a function over a range of parameters.\n",
    "\n",
    "    Returns the list of run times.\n",
    "\n",
    "    The function should be callable with a single argument: it will be\n",
    "    called with each entry from nrange in turn.\n",
    "\n",
    "    If verbose is true, at each step the value of nrange and time for the\n",
    "    call is printed.\"\"\"\n",
    "\n",
    "    ...\n",
    "    return nrange, times\n",
    "\n",
    "\n",
    "def time_sieves():\n",
    "    \"simple timing demo\"\n",
    "\n",
    "    ...\n",
    "\n",
    "    plot_sieve(sieve_1, 'Sieve1')\n",
    "    plot_sieve(sieve_2, 'Sieve2')\n",
    "    plot_sieve(sieve_3, 'Sieve3')\n",
    "\n",
    "    plt.legend()\n",
    "    plt.show()\n",
    "\n",
    "time_sieves()"
   ]
  },
  {
   "cell_type": "markdown",
   "id": "ea252eef",
   "metadata": {},
   "source": [
    "# Congratulations! You have completed Homework 1!"
   ]
  }
 ],
 "metadata": {
  "kernelspec": {
   "display_name": "Python 3 (ipykernel)",
   "language": "python",
   "name": "python3"
  },
  "language_info": {
   "codemirror_mode": {
    "name": "ipython",
    "version": 3
   },
   "file_extension": ".py",
   "mimetype": "text/x-python",
   "name": "python",
   "nbconvert_exporter": "python",
   "pygments_lexer": "ipython3",
   "version": "3.9.9"
  }
 },
 "nbformat": 3,
 "nbformat_minor": 5
}
